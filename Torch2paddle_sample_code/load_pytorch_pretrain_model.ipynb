{
 "cells": [
  {
   "cell_type": "markdown",
   "id": "88968e85",
   "metadata": {},
   "source": [
    "### 定义Paddle模型\n",
    "这里以刚才定义的DecoderNet模型为例，Encoder权重转换同理。"
   ]
  },
  {
   "cell_type": "code",
   "execution_count": 1,
   "id": "bedc720a",
   "metadata": {},
   "outputs": [],
   "source": [
    "import paddle\n",
    "import paddle.nn as nn\n",
    "\n",
    "class DecoderNet(nn.Layer):\n",
    "    def __init__(self):\n",
    "        super(DecoderNet, self).__init__()\n",
    "\n",
    "        self.resblock_41 = ResnetBlock(512)\n",
    "        self.convblock_41 = ConvBlock(512, 256)\n",
    "        self.resblock_31 = ResnetBlock(256)\n",
    "        self.convblock_31 = ConvBlock(256, 128)\n",
    "\n",
    "        self.convblock_21 = ConvBlock(128, 128)\n",
    "        self.convblock_22 = ConvBlock(128, 64)\n",
    "\n",
    "        self.convblock_11 = ConvBlock(64, 64)\n",
    "        self.upsample = nn.Upsample(scale_factor=2, mode='nearest')\n",
    "\n",
    "        self.final_conv = nn.Sequential(nn.Pad2D([1, 1, 1, 1], \n",
    "                                                  mode='reflect'),\n",
    "                                        nn.Conv2D(64, 3, (3, 3)))\n",
    "\n",
    "    def forward(self, cF, sF):\n",
    "\n",
    "        out = adaptive_instance_normalization(cF['r41'], sF['r41'])\n",
    "        out = self.resblock_41(out)\n",
    "        out = self.convblock_41(out)\n",
    "\n",
    "        out = self.upsample(out)\n",
    "        out += adaptive_instance_normalization(cF['r31'], sF['r31'])\n",
    "        out = self.resblock_31(out)\n",
    "        out = self.convblock_31(out)\n",
    "\n",
    "        out = self.upsample(out)\n",
    "        out += adaptive_instance_normalization(cF['r21'], sF['r21'])\n",
    "        out = self.convblock_21(out)\n",
    "        out = self.convblock_22(out)\n",
    "\n",
    "        out = self.upsample(out)\n",
    "        out = self.convblock_11(out)\n",
    "        out = self.final_conv(out)\n",
    "        return out\n",
    "\n",
    "class ResnetBlock(nn.Layer):\n",
    "    def __init__(self, dim):\n",
    "        super(ResnetBlock, self).__init__()\n",
    "        self.conv_block = nn.Sequential(nn.Pad2D([1, 1, 1, 1], \n",
    "                                                  mode='reflect'),\n",
    "                                        nn.Conv2D(dim, dim, (3, 3)), \n",
    "                                        nn.ReLU(),\n",
    "                                        nn.Pad2D([1, 1, 1, 1], \n",
    "                                                  mode='reflect'),\n",
    "                                        nn.Conv2D(dim, dim, (3, 3)))\n",
    "\n",
    "    def forward(self, x):\n",
    "        out = x + self.conv_block(x)\n",
    "        return out\n",
    "\n",
    "class ConvBlock(nn.Layer):\n",
    "    def __init__(self, dim1, dim2):\n",
    "        super(ConvBlock, self).__init__()\n",
    "        self.conv_block = nn.Sequential(nn.Pad2D([1, 1, 1, 1], \n",
    "                                                  mode='reflect'),\n",
    "                                        nn.Conv2D(dim1, dim2, (3, 3)),\n",
    "                                        nn.ReLU())\n",
    "\n",
    "    def forward(self, x):\n",
    "        out = self.conv_block(x)\n",
    "        return out\n",
    "\n",
    "def calc_mean_std(feat, eps=1e-5):\n",
    "    size = feat.shape\n",
    "    assert (len(size) == 4)\n",
    "    N, C = size[:2]\n",
    "    feat_var = feat.reshape([N, C, -1])\n",
    "    feat_var = paddle.var(feat_var, axis=2) + eps\n",
    "    feat_std = paddle.sqrt(feat_var)\n",
    "    feat_std = feat_std.reshape([N, C, 1, 1])\n",
    "    feat_mean = feat.reshape([N, C, -1])\n",
    "    feat_mean = paddle.mean(feat_mean, axis=2)\n",
    "    feat_mean = feat_mean.reshape([N, C, 1, 1])\n",
    "    return feat_mean, feat_std\n",
    "\n",
    "def adaptive_instance_normalization(content_feat, style_feat):\n",
    "    assert (content_feat.shape[:2] == style_feat.shape[:2])\n",
    "    size = content_feat.shape\n",
    "    style_mean, style_std = calc_mean_std(style_feat)\n",
    "    content_mean, content_std = calc_mean_std(content_feat)\n",
    "\n",
    "    normalized_feat = (content_feat -\n",
    "                       content_mean.expand(size)) / content_std.expand(size)\n",
    "    return normalized_feat * style_std.expand(size) + style_mean.expand(size)\n"
   ]
  },
  {
   "cell_type": "markdown",
   "id": "e0032b7a",
   "metadata": {},
   "source": [
    "#### 看一下paddle模型的参数"
   ]
  },
  {
   "cell_type": "code",
   "execution_count": 2,
   "id": "d3ed4492",
   "metadata": {},
   "outputs": [
    {
     "name": "stderr",
     "output_type": "stream",
     "text": [
      "/workspace/miniconda3/lib/python3.8/site-packages/ipykernel/ipkernel.py:283: DeprecationWarning: `should_run_async` will not call `transform_cell` automatically in the future. Please pass the result to `transformed_cell` argument and any exception that happen during thetransform in `preprocessing_exc_tuple` in IPython 7.17 and above.\n",
      "  and should_run_async(code)\n"
     ]
    },
    {
     "name": "stdout",
     "output_type": "stream",
     "text": [
      "paddle num_params: 20 paddle params: odict_keys(['resblock_41.conv_block.1.weight', 'resblock_41.conv_block.1.bias', 'resblock_41.conv_block.4.weight', 'resblock_41.conv_block.4.bias', 'convblock_41.conv_block.1.weight', 'convblock_41.conv_block.1.bias', 'resblock_31.conv_block.1.weight', 'resblock_31.conv_block.1.bias', 'resblock_31.conv_block.4.weight', 'resblock_31.conv_block.4.bias', 'convblock_31.conv_block.1.weight', 'convblock_31.conv_block.1.bias', 'convblock_21.conv_block.1.weight', 'convblock_21.conv_block.1.bias', 'convblock_22.conv_block.1.weight', 'convblock_22.conv_block.1.bias', 'convblock_11.conv_block.1.weight', 'convblock_11.conv_block.1.bias', 'final_conv.1.weight', 'final_conv.1.bias'])\n"
     ]
    }
   ],
   "source": [
    "model_p = DecoderNet()\n",
    "pw = model_p.state_dict()\n",
    "print('paddle num_params:', len(pw), 'paddle params:', pw.keys())"
   ]
  },
  {
   "cell_type": "markdown",
   "id": "c4db11f5",
   "metadata": {},
   "source": [
    "#### 加载torch模型参数"
   ]
  },
  {
   "cell_type": "code",
   "execution_count": 3,
   "id": "2058c6eb",
   "metadata": {},
   "outputs": [
    {
     "name": "stdout",
     "output_type": "stream",
     "text": [
      "torch num_params: 20 torch params: odict_keys(['resblock_41.conv_block.1.weight', 'resblock_41.conv_block.1.bias', 'resblock_41.conv_block.4.weight', 'resblock_41.conv_block.4.bias', 'convblock_41.conv_block.1.weight', 'convblock_41.conv_block.1.bias', 'resblock_31.conv_block.1.weight', 'resblock_31.conv_block.1.bias', 'resblock_31.conv_block.4.weight', 'resblock_31.conv_block.4.bias', 'convblock_31.conv_block.1.weight', 'convblock_31.conv_block.1.bias', 'convblock_21.conv_block.1.weight', 'convblock_21.conv_block.1.bias', 'convblock_22.conv_block.1.weight', 'convblock_22.conv_block.1.bias', 'convblock_11.conv_block.1.weight', 'convblock_11.conv_block.1.bias', 'final_conv.1.weight', 'final_conv.1.bias'])\n"
     ]
    }
   ],
   "source": [
    "import torch\n",
    "tw = torch.load('/workspace/visCVPR2021/ZBK/pre_trained/decoder_iter_10000.pth')\n",
    "print('torch num_params:', len(tw), 'torch params:', tw.keys())"
   ]
  },
  {
   "cell_type": "markdown",
   "id": "d550bb4a",
   "metadata": {},
   "source": [
    "#### 对比paddle和torch的模型参数"
   ]
  },
  {
   "cell_type": "code",
   "execution_count": 4,
   "id": "e8713491",
   "metadata": {},
   "outputs": [
    {
     "name": "stdout",
     "output_type": "stream",
     "text": [
      "resblock_41.conv_block.1.weight torch.Size([512, 512, 3, 3]) #### resblock_41.conv_block.1.weight [512, 512, 3, 3]\n",
      "resblock_41.conv_block.1.bias torch.Size([512]) #### resblock_41.conv_block.1.bias [512]\n",
      "resblock_41.conv_block.4.weight torch.Size([512, 512, 3, 3]) #### resblock_41.conv_block.4.weight [512, 512, 3, 3]\n",
      "resblock_41.conv_block.4.bias torch.Size([512]) #### resblock_41.conv_block.4.bias [512]\n",
      "convblock_41.conv_block.1.weight torch.Size([256, 512, 3, 3]) #### convblock_41.conv_block.1.weight [256, 512, 3, 3]\n",
      "convblock_41.conv_block.1.bias torch.Size([256]) #### convblock_41.conv_block.1.bias [256]\n",
      "resblock_31.conv_block.1.weight torch.Size([256, 256, 3, 3]) #### resblock_31.conv_block.1.weight [256, 256, 3, 3]\n",
      "resblock_31.conv_block.1.bias torch.Size([256]) #### resblock_31.conv_block.1.bias [256]\n",
      "resblock_31.conv_block.4.weight torch.Size([256, 256, 3, 3]) #### resblock_31.conv_block.4.weight [256, 256, 3, 3]\n",
      "resblock_31.conv_block.4.bias torch.Size([256]) #### resblock_31.conv_block.4.bias [256]\n",
      "convblock_31.conv_block.1.weight torch.Size([128, 256, 3, 3]) #### convblock_31.conv_block.1.weight [128, 256, 3, 3]\n",
      "convblock_31.conv_block.1.bias torch.Size([128]) #### convblock_31.conv_block.1.bias [128]\n",
      "convblock_21.conv_block.1.weight torch.Size([128, 128, 3, 3]) #### convblock_21.conv_block.1.weight [128, 128, 3, 3]\n",
      "convblock_21.conv_block.1.bias torch.Size([128]) #### convblock_21.conv_block.1.bias [128]\n",
      "convblock_22.conv_block.1.weight torch.Size([64, 128, 3, 3]) #### convblock_22.conv_block.1.weight [64, 128, 3, 3]\n",
      "convblock_22.conv_block.1.bias torch.Size([64]) #### convblock_22.conv_block.1.bias [64]\n",
      "convblock_11.conv_block.1.weight torch.Size([64, 64, 3, 3]) #### convblock_11.conv_block.1.weight [64, 64, 3, 3]\n",
      "convblock_11.conv_block.1.bias torch.Size([64]) #### convblock_11.conv_block.1.bias [64]\n",
      "final_conv.1.weight torch.Size([3, 64, 3, 3]) #### final_conv.1.weight [3, 64, 3, 3]\n",
      "final_conv.1.bias torch.Size([3]) #### final_conv.1.bias [3]\n"
     ]
    },
    {
     "name": "stderr",
     "output_type": "stream",
     "text": [
      "/workspace/miniconda3/lib/python3.8/site-packages/ipykernel/ipkernel.py:283: DeprecationWarning: `should_run_async` will not call `transform_cell` automatically in the future. Please pass the result to `transformed_cell` argument and any exception that happen during thetransform in `preprocessing_exc_tuple` in IPython 7.17 and above.\n",
      "  and should_run_async(code)\n"
     ]
    }
   ],
   "source": [
    "for kt, kp in zip(tw.keys(), pw.keys()):\n",
    "    print(kt, tw[kt].shape, '####', kp, pw[kp].shape)"
   ]
  },
  {
   "cell_type": "markdown",
   "id": "feab890c",
   "metadata": {},
   "source": [
    "若paddle参数的顺序与torch不一致，则需要调整paddle参数"
   ]
  },
  {
   "cell_type": "code",
   "execution_count": 5,
   "id": "77685930",
   "metadata": {},
   "outputs": [],
   "source": [
    "from collections import OrderedDict\n",
    "import pickle\n",
    "# adatpt_paddle_keys是调整参数顺序后的keys\n",
    "adatpt_paddle_keys = ['resblock_41.conv_block.1.weight', 'resblock_41.conv_block.1.bias',\n",
    "                      'resblock_41.conv_block.4.weight', 'resblock_41.conv_block.4.bias',\n",
    "                      'convblock_41.conv_block.1.weight', 'convblock_41.conv_block.1.bias', \n",
    "                      'resblock_31.conv_block.1.weight', 'resblock_31.conv_block.1.bias', \n",
    "                      'resblock_31.conv_block.4.weight', 'resblock_31.conv_block.4.bias', \n",
    "                      'convblock_31.conv_block.1.weight', 'convblock_31.conv_block.1.bias', \n",
    "                      'convblock_21.conv_block.1.weight', 'convblock_21.conv_block.1.bias', \n",
    "                      'convblock_22.conv_block.1.weight', 'convblock_22.conv_block.1.bias', \n",
    "                      'convblock_11.conv_block.1.weight', 'convblock_11.conv_block.1.bias', \n",
    "                      'final_conv.1.weight', 'final_conv.1.bias']\n",
    "# 接下来创建一个order_dict, key是paddle权重的key，value是pytroch 权重的value的numpy的值\n",
    "paddle_new_dict = OrderedDict() \n",
    "for torch_key, paddle_key in zip(tw.keys(), adatpt_paddle_keys):\n",
    "    paddle_new_dict[paddle_key] = tw[torch_key].detach().numpy()\n",
    "    # paddle_new_dict[paddle_key] = tw[torch_key].detach().numpy().T\n",
    "f = open('/workspace/visCVPR2021/ZBK/pre_trained/decoder_iter_10000_p.pdparams', 'wb')\n",
    "pickle.dump(paddle_new_dict, f)\n",
    "f.close()"
   ]
  },
  {
   "cell_type": "markdown",
   "id": "b9fc1b12",
   "metadata": {},
   "source": [
    "### 注意事项\n",
    "1. 如果有Dropout层，需要注释掉，否则影响权重转换。\n",
    "2. FC层的权重需要转置。"
   ]
  },
  {
   "cell_type": "code",
   "execution_count": null,
   "id": "5f38bcb7",
   "metadata": {},
   "outputs": [],
   "source": []
  }
 ],
 "metadata": {
  "kernelspec": {
   "display_name": "Python 3",
   "language": "python",
   "name": "python3"
  },
  "language_info": {
   "codemirror_mode": {
    "name": "ipython",
    "version": 3
   },
   "file_extension": ".py",
   "mimetype": "text/x-python",
   "name": "python",
   "nbconvert_exporter": "python",
   "pygments_lexer": "ipython3",
   "version": "3.8.5"
  }
 },
 "nbformat": 4,
 "nbformat_minor": 5
}
