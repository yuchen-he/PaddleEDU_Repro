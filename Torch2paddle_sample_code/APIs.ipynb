{
 "cells": [
  {
   "cell_type": "markdown",
   "id": "5e24a3ef",
   "metadata": {},
   "source": [
    "```python\n",
    "torch.nn.conv2d()->paddle.nn.conv2D()\n",
    "torch.nn.ReplicationPad2d()->paddle.nn.Pad2D()\n",
    "torch.nn.MaxPool2d()->paddle.nn.MaxPool2D()\n",
    "torch.nn.ReLU(inplace=True)->paddle.nn.ReLU()\n",
    "torch.cat()->paddle.concat()\n",
    "```"
   ]
  },
  {
   "cell_type": "markdown",
   "id": "07a95692",
   "metadata": {},
   "source": [
    "```python\n",
    "feat.size()->feat.shape\n",
    "feat.view(N, C, -1)->feat.reshape([N, C, -1])\n",
    "feat.permute(0, 2, 3, 1)->feat.transpose([0, 2, 3, 1])\n",
    "```"
   ]
  },
  {
   "cell_type": "code",
   "execution_count": null,
   "id": "8a4533bb",
   "metadata": {},
   "outputs": [],
   "source": []
  }
 ],
 "metadata": {
  "kernelspec": {
   "display_name": "Python 3",
   "language": "python",
   "name": "python3"
  },
  "language_info": {
   "codemirror_mode": {
    "name": "ipython",
    "version": 3
   },
   "file_extension": ".py",
   "mimetype": "text/x-python",
   "name": "python",
   "nbconvert_exporter": "python",
   "pygments_lexer": "ipython3",
   "version": "3.8.5"
  }
 },
 "nbformat": 4,
 "nbformat_minor": 5
}
